{
  "nbformat": 4,
  "nbformat_minor": 0,
  "metadata": {
    "colab": {
      "name": "Pine Bio Infection Dseases presentation part2.ipynb",
      "provenance": [],
      "collapsed_sections": [],
      "authorship_tag": "ABX9TyP8WJndi8LGWQYKZrqajzdS",
      "include_colab_link": true
    },
    "kernelspec": {
      "name": "python3",
      "display_name": "Python 3"
    }
  },
  "cells": [
    {
      "cell_type": "markdown",
      "metadata": {
        "id": "view-in-github",
        "colab_type": "text"
      },
      "source": [
        "<a href=\"https://colab.research.google.com/github/cappelchi/Bioinformatics-for-Infectious-Diseases/blob/master/Pine_Bio_Infection_Dseases_presentation_part2.ipynb\" target=\"_parent\"><img src=\"https://colab.research.google.com/assets/colab-badge.svg\" alt=\"Open In Colab\"/></a>"
      ]
    },
    {
      "cell_type": "markdown",
      "metadata": {
        "id": "I9TgNLd8qsLr",
        "colab_type": "text"
      },
      "source": [
        "###Reference publications\n",
        "\n",
        "[Genetic Predisposition To Acquire a Polybasic Cleavage Site for Highly Pathogenic Avian Influenza Virus Hemagglutinin](https://www.ncbi.nlm.nih.gov/pmc/articles/PMC5312086/#B26)\n",
        "\n",
        "[SARS-CoV-2 furin cleavage site revisited](https://www.virology.ws/2020/05/14/sars-cov-2-furin-cleavage-site-revisited/)"
      ]
    },
    {
      "cell_type": "code",
      "metadata": {
        "id": "6egtIV7LV86O",
        "colab_type": "code",
        "colab": {
          "base_uri": "https://localhost:8080/",
          "height": 144
        },
        "outputId": "d20a79c8-ce47-4c34-f4cb-4af41b1c4475"
      },
      "source": [
        "!pip install biopython"
      ],
      "execution_count": null,
      "outputs": [
        {
          "output_type": "stream",
          "text": [
            "Collecting biopython\n",
            "\u001b[?25l  Downloading https://files.pythonhosted.org/packages/a8/66/134dbd5f885fc71493c61b6cf04c9ea08082da28da5ed07709b02857cbd0/biopython-1.77-cp36-cp36m-manylinux1_x86_64.whl (2.3MB)\n",
            "\u001b[K     |████████████████████████████████| 2.3MB 2.8MB/s \n",
            "\u001b[?25hRequirement already satisfied: numpy in /usr/local/lib/python3.6/dist-packages (from biopython) (1.18.5)\n",
            "Installing collected packages: biopython\n",
            "Successfully installed biopython-1.77\n"
          ],
          "name": "stdout"
        }
      ]
    },
    {
      "cell_type": "code",
      "metadata": {
        "id": "SoqJkjvEWahY",
        "colab_type": "code",
        "colab": {}
      },
      "source": [
        "from Bio import SeqIO, Entrez\n",
        "from Bio.Seq import Seq\n",
        "from Bio.Data import CodonTable"
      ],
      "execution_count": null,
      "outputs": []
    },
    {
      "cell_type": "code",
      "metadata": {
        "id": "91WPBJVvXPiQ",
        "colab_type": "code",
        "colab": {
          "base_uri": "https://localhost:8080/",
          "height": 443
        },
        "outputId": "39dc187a-d5c0-4293-f427-9f7a1f6819fc"
      },
      "source": [
        "print(CodonTable.unambiguous_dna_by_id[1])"
      ],
      "execution_count": null,
      "outputs": [
        {
          "output_type": "stream",
          "text": [
            "Table 1 Standard, SGC0\n",
            "\n",
            "  |  T      |  C      |  A      |  G      |\n",
            "--+---------+---------+---------+---------+--\n",
            "T | TTT F   | TCT S   | TAT Y   | TGT C   | T\n",
            "T | TTC F   | TCC S   | TAC Y   | TGC C   | C\n",
            "T | TTA L   | TCA S   | TAA Stop| TGA Stop| A\n",
            "T | TTG L(s)| TCG S   | TAG Stop| TGG W   | G\n",
            "--+---------+---------+---------+---------+--\n",
            "C | CTT L   | CCT P   | CAT H   | CGT R   | T\n",
            "C | CTC L   | CCC P   | CAC H   | CGC R   | C\n",
            "C | CTA L   | CCA P   | CAA Q   | CGA R   | A\n",
            "C | CTG L(s)| CCG P   | CAG Q   | CGG R   | G\n",
            "--+---------+---------+---------+---------+--\n",
            "A | ATT I   | ACT T   | AAT N   | AGT S   | T\n",
            "A | ATC I   | ACC T   | AAC N   | AGC S   | C\n",
            "A | ATA I   | ACA T   | AAA K   | AGA R   | A\n",
            "A | ATG M(s)| ACG T   | AAG K   | AGG R   | G\n",
            "--+---------+---------+---------+---------+--\n",
            "G | GTT V   | GCT A   | GAT D   | GGT G   | T\n",
            "G | GTC V   | GCC A   | GAC D   | GGC G   | C\n",
            "G | GTA V   | GCA A   | GAA E   | GGA G   | A\n",
            "G | GTG V   | GCG A   | GAG E   | GGG G   | G\n",
            "--+---------+---------+---------+---------+--\n"
          ],
          "name": "stdout"
        }
      ]
    },
    {
      "cell_type": "code",
      "metadata": {
        "id": "CHj02GdvXgnt",
        "colab_type": "code",
        "colab": {}
      },
      "source": [
        "Entrez.email = \"cappelchi@gmail.com\"  # Always tell NCBI who you are"
      ],
      "execution_count": null,
      "outputs": []
    },
    {
      "cell_type": "code",
      "metadata": {
        "id": "UG91OqvM949K",
        "colab_type": "code",
        "colab": {}
      },
      "source": [
        "def get_position(access, find_poly, offset = -1, after = 6000):\n",
        "    if find_poly == '':\n",
        "        print('ERROR: set serching site')\n",
        "        return\n",
        "    if offset != -1:\n",
        "        get_seq = Entrez.efetch(db=\"nucleotide\", id= access, retmode=\"text\", rettype=\"fasta\") \n",
        "        reference1 = SeqIO.read(get_seq, \"fasta\")[offset:].translate() #in amino acids\n",
        "        pos = reference1.seq.find(find_poly)\n",
        "        print('position: ', pos, ' offset: ', offset) #where is polybasic site\n",
        "        return pos, offset\n",
        "    else:\n",
        "        for offset in range(3):\n",
        "            get_seq = Entrez.efetch(db=\"nucleotide\", id= access, retmode=\"text\", rettype=\"fasta\") \n",
        "            reference1 = SeqIO.read(get_seq, \"fasta\")[offset:].translate() #in amino acids\n",
        "            pos = reference1.seq.find(find_poly)\n",
        "            if (pos != -1) & (pos > after):\n",
        "                break\n",
        "        print('position: ', pos, ' offset: ', offset) #where is polybasic site\n",
        "        return pos, offset"
      ],
      "execution_count": null,
      "outputs": []
    },
    {
      "cell_type": "code",
      "metadata": {
        "id": "xPq52uOFQ6zq",
        "colab_type": "code",
        "colab": {}
      },
      "source": [
        "def print_sequence(access, pos, offset, off_back = 6, off_forw = 23):\n",
        "    #access = 'MT072864.1'\n",
        "    get_seq = Entrez.efetch(db=\"nucleotide\", id= access, retmode=\"text\", rettype=\"fasta\") #accession MT072864.1 Pangolin coronavirus isolate PCoV_GX-P2V, complete genome.\n",
        "    #pos = 7850\n",
        "    #offset = 2\n",
        "    #off_back = 7\n",
        "    #off_forw = 23\n",
        "    cut_seq = SeqIO.read(get_seq, \"fasta\")[offset + pos * 3 - off_back:offset + pos * 3 + off_forw] #polybasic cleavage site in nucleotides\n",
        "    poly = cut_seq[off_back:-off_forw + 12]\n",
        "    amino_cut_seq = cut_seq.translate()\n",
        "    print(len(cut_seq.seq))\n",
        "    print(cut_seq.seq)\n",
        "    print(amino_cut_seq.seq)\n",
        "    print('Polybasic nucleotide:', poly.seq, ' - amino:', poly.translate().seq)"
      ],
      "execution_count": null,
      "outputs": []
    },
    {
      "cell_type": "markdown",
      "metadata": {
        "id": "sR_jWlkX98GI",
        "colab_type": "text"
      },
      "source": [
        "### **NC_045512.2** corona COVID 19 reference"
      ]
    },
    {
      "cell_type": "code",
      "metadata": {
        "id": "3r33FaGh_4Za",
        "colab_type": "code",
        "colab": {
          "base_uri": "https://localhost:8080/",
          "height": 90
        },
        "outputId": "3779a492-71ff-4551-84ad-e52fec54234a"
      },
      "source": [
        "access = 'NC_045512.2' #corona COVID 19 reference\n",
        "find_poly = 'RRAR'\n",
        "pos, offset = get_position(\n",
        "    access = access, \n",
        "    find_poly = find_poly, \n",
        "    offset = -1\n",
        "    )"
      ],
      "execution_count": null,
      "outputs": [
        {
          "output_type": "stream",
          "text": [
            "/usr/local/lib/python3.6/dist-packages/Bio/Seq.py:2742: BiopythonWarning: Partial codon, len(sequence) not a multiple of three. Explicitly trim the sequence or add trailing N before translation. This may become an error in future.\n",
            "  BiopythonWarning,\n"
          ],
          "name": "stderr"
        },
        {
          "output_type": "stream",
          "text": [
            "position:  7868  offset:  1\n"
          ],
          "name": "stdout"
        }
      ]
    },
    {
      "cell_type": "code",
      "metadata": {
        "id": "QJatF23VRYSJ",
        "colab_type": "code",
        "colab": {
          "base_uri": "https://localhost:8080/",
          "height": 88
        },
        "outputId": "e81b19ae-2a52-4fed-91fa-0033652c9aad"
      },
      "source": [
        "print_sequence(\n",
        "    access = access, \n",
        "    pos = pos, \n",
        "    offset = offset, \n",
        "    off_back = 3, \n",
        "    off_forw = 21\n",
        "    )"
      ],
      "execution_count": null,
      "outputs": [
        {
          "output_type": "stream",
          "text": [
            "24\n",
            "CCTCGGCGGGCACGTAGTGTAGCT\n",
            "PRRARSVA\n",
            "Polybasic nucleotide: CGGCGGGCACGT  - amino: RRAR\n"
          ],
          "name": "stdout"
        }
      ]
    },
    {
      "cell_type": "markdown",
      "metadata": {
        "id": "doz-6fIo-1Mt",
        "colab_type": "text"
      },
      "source": [
        "![corona](https://raw.githubusercontent.com/cappelchi/T-Bio/master/infections/coronafold.svg)"
      ]
    },
    {
      "cell_type": "markdown",
      "metadata": {
        "id": "MRJFCLE1-C61",
        "colab_type": "text"
      },
      "source": [
        "###accession MT072864.1 Pangolin coronavirus isolate PCoV_GX-P2V, complete genome"
      ]
    },
    {
      "cell_type": "markdown",
      "metadata": {
        "id": "EgMqOZXpLYMl",
        "colab_type": "text"
      },
      "source": [
        "![align](https://raw.githubusercontent.com/cappelchi/T-Bio/master/infections/pangolin_covid19_spike_align.png)"
      ]
    },
    {
      "cell_type": "code",
      "metadata": {
        "id": "BVe95Gs4-SGf",
        "colab_type": "code",
        "colab": {
          "base_uri": "https://localhost:8080/",
          "height": 90
        },
        "outputId": "03251eac-b790-4a80-dde3-6d33ba080f6c"
      },
      "source": [
        "access = 'MT072864.1'\n",
        "#accession MT072864.1 Pangolin coronavirus isolate PCoV_GX-P2V, complete genome.\n",
        "find_poly = 'SSFR'\n",
        "pos, offset = get_position(\n",
        "    access = access, \n",
        "    find_poly = find_poly, \n",
        "    offset = -1\n",
        "    )"
      ],
      "execution_count": null,
      "outputs": [
        {
          "output_type": "stream",
          "text": [
            "/usr/local/lib/python3.6/dist-packages/Bio/Seq.py:2742: BiopythonWarning: Partial codon, len(sequence) not a multiple of three. Explicitly trim the sequence or add trailing N before translation. This may become an error in future.\n",
            "  BiopythonWarning,\n"
          ],
          "name": "stderr"
        },
        {
          "output_type": "stream",
          "text": [
            "position:  7850  offset:  2\n"
          ],
          "name": "stdout"
        }
      ]
    },
    {
      "cell_type": "code",
      "metadata": {
        "id": "TL7MJxVcBES0",
        "colab_type": "code",
        "colab": {
          "base_uri": "https://localhost:8080/",
          "height": 88
        },
        "outputId": "a18ce50c-8e44-4428-be92-89bcd6bc3d8c"
      },
      "source": [
        "print_sequence(\n",
        "    access = access, \n",
        "    pos = pos, \n",
        "    offset = offset, \n",
        "    off_back = 6, \n",
        "    off_forw = 24\n",
        "    )"
      ],
      "execution_count": null,
      "outputs": [
        {
          "output_type": "stream",
          "text": [
            "30\n",
            "TCCATGTCATCATTTCGTAGTGTCAACCAG\n",
            "SMSSFRSVNQ\n",
            "Polybasic nucleotide: TCATCATTTCGT  - amino: SSFR\n"
          ],
          "name": "stdout"
        }
      ]
    },
    {
      "cell_type": "markdown",
      "metadata": {
        "id": "Imd1vCbcW9Lf",
        "colab_type": "text"
      },
      "source": [
        "![alt text](https://raw.githubusercontent.com/cappelchi/T-Bio/master/infections/Pangolin.png)"
      ]
    },
    {
      "cell_type": "markdown",
      "metadata": {
        "id": "LPCxowbk3KDv",
        "colab_type": "text"
      },
      "source": [
        "###**NC_019843** get MERS CoV reference"
      ]
    },
    {
      "cell_type": "code",
      "metadata": {
        "id": "fQETrOsM1v_O",
        "colab_type": "code",
        "colab": {
          "base_uri": "https://localhost:8080/",
          "height": 90
        },
        "outputId": "aeee811c-c7e4-424f-e039-842ae57d6cfb"
      },
      "source": [
        "access = 'NC_019843' #get MERS CoV reference\n",
        "find_poly = 'RSVR'\n",
        "pos, offset = get_position(\n",
        "    access = access, \n",
        "    find_poly = find_poly, \n",
        "    offset = -1\n",
        "    )"
      ],
      "execution_count": null,
      "outputs": [
        {
          "output_type": "stream",
          "text": [
            "/usr/local/lib/python3.6/dist-packages/Bio/Seq.py:2742: BiopythonWarning: Partial codon, len(sequence) not a multiple of three. Explicitly trim the sequence or add trailing N before translation. This may become an error in future.\n",
            "  BiopythonWarning,\n"
          ],
          "name": "stderr"
        },
        {
          "output_type": "stream",
          "text": [
            "position:  7898  offset:  2\n"
          ],
          "name": "stdout"
        }
      ]
    },
    {
      "cell_type": "code",
      "metadata": {
        "id": "SB-uM6532MnP",
        "colab_type": "code",
        "colab": {
          "base_uri": "https://localhost:8080/",
          "height": 144
        },
        "outputId": "6059a01d-d1e2-443b-818a-6a58f514c899"
      },
      "source": [
        "print_sequence(\n",
        "    access = access, \n",
        "    pos = pos, \n",
        "    offset = offset, \n",
        "    off_back = 12, \n",
        "    off_forw = 23\n",
        "    )"
      ],
      "execution_count": null,
      "outputs": [
        {
          "output_type": "stream",
          "text": [
            "35\n",
            "ACTCTCACACCTCGCAGTGTGCGCTCTGTTCCAGG\n",
            "TLTPRSVRSVP\n",
            "Polybasic nucleotide: CGCAGTGTGCGC  - amino: RSVR\n"
          ],
          "name": "stdout"
        },
        {
          "output_type": "stream",
          "text": [
            "/usr/local/lib/python3.6/dist-packages/Bio/Seq.py:2742: BiopythonWarning: Partial codon, len(sequence) not a multiple of three. Explicitly trim the sequence or add trailing N before translation. This may become an error in future.\n",
            "  BiopythonWarning,\n"
          ],
          "name": "stderr"
        }
      ]
    },
    {
      "cell_type": "markdown",
      "metadata": {
        "id": "DKwULoo13ZYq",
        "colab_type": "text"
      },
      "source": [
        "###**KJ477102.1** accession KJ477102.1 (MERS-CoV) camelus dromedarius"
      ]
    },
    {
      "cell_type": "code",
      "metadata": {
        "id": "itHBU7KiDpdc",
        "colab_type": "code",
        "colab": {
          "base_uri": "https://localhost:8080/",
          "height": 35
        },
        "outputId": "cbcc6338-d62b-4fbe-91e6-cdf1c623fd03"
      },
      "source": [
        "access = 'KJ477102.1' #accession KJ477102.1 (MERS-CoV) camelus dromedarius\n",
        "find_poly = 'RSSR'\n",
        "pos, offset = get_position(\n",
        "    access = access, \n",
        "    find_poly = find_poly, \n",
        "    offset = 1\n",
        "    )"
      ],
      "execution_count": null,
      "outputs": [
        {
          "output_type": "stream",
          "text": [
            "position:  8016  offset:  1\n"
          ],
          "name": "stdout"
        }
      ]
    },
    {
      "cell_type": "code",
      "metadata": {
        "id": "VhIeAiiq120j",
        "colab_type": "code",
        "colab": {
          "base_uri": "https://localhost:8080/",
          "height": 144
        },
        "outputId": "7e9e5f0f-d2d9-45ee-ef45-0050b795acb8"
      },
      "source": [
        "print_sequence(\n",
        "    access = access, \n",
        "    pos = pos, \n",
        "    offset = offset, \n",
        "    off_back = 12, \n",
        "    off_forw = 23\n",
        "    )"
      ],
      "execution_count": null,
      "outputs": [
        {
          "output_type": "stream",
          "text": [
            "35\n",
            "TCTACTGGCAGTCGTAGTTCACGTATTGCTATTGA\n",
            "STGSRSSRIAI\n",
            "Polybasic nucleotide: CGTAGTTCACGT  - amino: RSSR\n"
          ],
          "name": "stdout"
        },
        {
          "output_type": "stream",
          "text": [
            "/usr/local/lib/python3.6/dist-packages/Bio/Seq.py:2742: BiopythonWarning: Partial codon, len(sequence) not a multiple of three. Explicitly trim the sequence or add trailing N before translation. This may become an error in future.\n",
            "  BiopythonWarning,\n"
          ],
          "name": "stderr"
        }
      ]
    },
    {
      "cell_type": "markdown",
      "metadata": {
        "id": "6Sh9bZn93huo",
        "colab_type": "text"
      },
      "source": [
        "###**NC_005831.2** accession Human coronavirus NL63 (HCoV-NL63)"
      ]
    },
    {
      "cell_type": "code",
      "metadata": {
        "id": "ZJB5kAm11_Ke",
        "colab_type": "code",
        "colab": {
          "base_uri": "https://localhost:8080/",
          "height": 90
        },
        "outputId": "6836c3eb-fcd1-4965-a4f0-8df8b229223b"
      },
      "source": [
        "access = 'NC_005831.2' #accession Human coronavirus NL63 (HCoV-NL63)\n",
        "find_poly = 'RPR'\n",
        "pos, offset = get_position(\n",
        "    access = access, \n",
        "    find_poly = find_poly, \n",
        "    offset = 2\n",
        "    )"
      ],
      "execution_count": null,
      "outputs": [
        {
          "output_type": "stream",
          "text": [
            "position:  7568  offset:  2\n"
          ],
          "name": "stdout"
        },
        {
          "output_type": "stream",
          "text": [
            "/usr/local/lib/python3.6/dist-packages/Bio/Seq.py:2742: BiopythonWarning: Partial codon, len(sequence) not a multiple of three. Explicitly trim the sequence or add trailing N before translation. This may become an error in future.\n",
            "  BiopythonWarning,\n"
          ],
          "name": "stderr"
        }
      ]
    },
    {
      "cell_type": "code",
      "metadata": {
        "id": "umpYQuO825-r",
        "colab_type": "code",
        "colab": {
          "base_uri": "https://localhost:8080/",
          "height": 88
        },
        "outputId": "8ab500f4-7f1c-4563-f9df-d55fc43c55bf"
      },
      "source": [
        "print_sequence(\n",
        "    access = access, \n",
        "    pos = pos, \n",
        "    offset = offset, \n",
        "    off_back = 6, \n",
        "    off_forw = 24\n",
        "    )"
      ],
      "execution_count": null,
      "outputs": [
        {
          "output_type": "stream",
          "text": [
            "30\n",
            "CCTGTTCGTCCGCGTAATTCTAGTGATAAT\n",
            "PVRPRNSSDN\n",
            "Polybasic nucleotide: CGTCCGCGTAAT  - amino: RPRN\n"
          ],
          "name": "stdout"
        }
      ]
    },
    {
      "cell_type": "markdown",
      "metadata": {
        "id": "Kdi6kYaAPtEW",
        "colab_type": "text"
      },
      "source": [
        "![nl63](https://raw.githubusercontent.com/cappelchi/T-Bio/master/infections/hcov-nl63.png)\n",
        "![nl63-2](https://raw.githubusercontent.com/cappelchi/T-Bio/master/infections/hcov-nl63-2.png)"
      ]
    }
  ]
}